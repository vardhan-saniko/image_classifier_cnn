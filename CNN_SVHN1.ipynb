{
  "cells": [
    {
      "cell_type": "code",
      "execution_count": null,
      "metadata": {
        "colab": {
          "base_uri": "https://localhost:8080/"
        },
        "id": "37TvK9TkUuvA",
        "outputId": "fc0c5b6b-b0af-4832-fc9e-f6b509a13637"
      },
      "outputs": [
        {
          "output_type": "stream",
          "name": "stdout",
          "text": [
            "<class 'numpy.ndarray'>\n"
          ]
        }
      ],
      "source": [
        "from scipy import io\n",
        "test_path = \"/content/drive/MyDrive/Colab Notebooks/test_32x32.mat\"\n",
        "train_path = \"/content/drive/MyDrive/Colab Notebooks/train_32x32.mat\"\n",
        "# data = io.loadmat(train_path)\n",
        "# print(\"aaa {}\".format(type(data)))\n",
        "# print(\"bbbb {}\".format(data.keys()))\n",
        "trX = io.loadmat(train_path)[\"X\"]\n",
        "trY = io.loadmat(train_path)[\"y\"]\n",
        "tsX = io.loadmat(test_path)[\"X\"]\n",
        "tsY = io.loadmat(test_path)[\"y\"]\n",
        "\n",
        "# Normalize training data\n",
        "trX = trX/255\n",
        "tsX = tsX/255\n",
        "print(type(trX))"
      ]
    },
    {
      "cell_type": "markdown",
      "source": [
        "# New Section"
      ],
      "metadata": {
        "id": "DirUKei7RAvJ"
      }
    },
    {
      "cell_type": "code",
      "execution_count": null,
      "metadata": {
        "id": "XGcrHudpVIWn"
      },
      "outputs": [],
      "source": [
        "# OneHotEncoding\n",
        "from sklearn.preprocessing import OneHotEncoder\n",
        " \n",
        "encoder = OneHotEncoder().fit(trY.reshape(-1, 1))\n",
        "\n",
        "y_train = encoder.transform(trY.reshape(-1, 1)).toarray()\n",
        "y_test = encoder.transform(tsY.reshape(-1, 1)).toarray()"
      ]
    },
    {
      "cell_type": "code",
      "execution_count": null,
      "metadata": {
        "colab": {
          "base_uri": "https://localhost:8080/"
        },
        "id": "o53URFIcVKNN",
        "outputId": "916d98ad-9249-4fd0-f3c1-6b4c6c9bfbe2"
      },
      "outputs": [
        {
          "name": "stdout",
          "output_type": "stream",
          "text": [
            "(73257, 32, 32, 3)\n",
            "(26032, 32, 32, 3)\n",
            "(73257, 10)\n",
            "(26032, 10)\n"
          ]
        }
      ],
      "source": [
        "print(trX.shape)\n",
        "print(tsX.shape)\n",
        "print(y_train.shape)\n",
        "print(y_test.shape)"
      ]
    },
    {
      "cell_type": "code",
      "execution_count": null,
      "metadata": {
        "colab": {
          "background_save": true,
          "base_uri": "https://localhost:8080/"
        },
        "id": "bDYxxtBeWiOx",
        "outputId": "e9094d09-e572-4015-daf2-e0e37166dce3"
      },
      "outputs": [
        {
          "name": "stdout",
          "output_type": "stream",
          "text": [
            "Epoch 1/10\n",
            "3663/3663 [==============================] - 1496s 408ms/step - loss: 1.4824 - accuracy: 0.4947 - val_loss: 0.5914 - val_accuracy: 0.8357\n",
            "Epoch 2/10\n",
            "3663/3663 [==============================] - 1476s 403ms/step - loss: 0.4809 - accuracy: 0.8594 - val_loss: 0.4380 - val_accuracy: 0.8728\n",
            "Epoch 3/10\n",
            "3663/3663 [==============================] - 1474s 402ms/step - loss: 0.3502 - accuracy: 0.8977 - val_loss: 0.3823 - val_accuracy: 0.8869\n",
            "Epoch 4/10\n",
            "2544/3663 [===================>..........] - ETA: 6:59 - loss: 0.2795 - accuracy: 0.9180"
          ]
        }
      ],
      "source": [
        "from tensorflow.keras import layers, models, optimizers\n",
        "model = models.Sequential()\n",
        "model.add(layers.Conv2D(64, (5, 5), activation='relu', input_shape=(32, 32, 3), padding=\"same\"))\n",
        "model.add(layers.MaxPooling2D((2, 2), strides=(2,2)))\n",
        "model.add(layers.Conv2D(64, (5, 5), activation='relu', padding=\"same\"))\n",
        "model.add(layers.MaxPooling2D((2, 2), strides=(2,2)))\n",
        "model.add(layers.Conv2D(128, (5, 5), activation='relu', padding=\"same\"))\n",
        "model.add(layers.Flatten())\n",
        "model.add(layers.Dense(3072, activation='relu'))\n",
        "model.add(layers.Dense(2048, activation='relu'))\n",
        "model.add(layers.Dense(10, activation='softmax'))\n",
        "optimization = optimizers.SGD(learning_rate=0.01)\n",
        "model.compile(loss=\"categorical_crossentropy\", optimizer=optimization, metrics=[\"accuracy\"])\n",
        "# print(\"trx: {}\".format(trX))\n",
        "# print(\"try: {}\".format(trY))\n",
        "# print(\"tsx: {}\".format(tsX))\n",
        "# print(\"tsy: {}\".format(tsY))\n",
        "history = model.fit(trX, y_train, batch_size=20, epochs = 10, validation_data = (tsX, y_test))"
      ]
    },
    {
      "cell_type": "code",
      "execution_count": null,
      "metadata": {
        "colab": {
          "base_uri": "https://localhost:8080/",
          "height": 301
        },
        "id": "F9B-gTQLs8Lx",
        "outputId": "3f7c5379-506e-4df2-8570-02642bf79dcb"
      },
      "outputs": [
        {
          "data": {
            "text/plain": [
              "<matplotlib.legend.Legend at 0x7fd424023250>"
            ]
          },
          "execution_count": 10,
          "metadata": {},
          "output_type": "execute_result"
        },
        {
          "data": {
            "image/png": "[encoded data removed]",
            "text/plain": [
              "<Figure size 432x288 with 1 Axes>"
            ]
          },
          "metadata": {},
          "output_type": "display_data"
        }
      ],
      "source": [
        "import matplotlib.pyplot as plt\n",
        "plt.plot(history.history['accuracy'], label='accuracy')\n",
        "plt.plot(history.history['val_accuracy'], label = 'val_accuracy')\n",
        "plt.xlabel('Epoch')\n",
        "plt.ylabel('Accuracy')\n",
        "plt.ylim([0, 1])\n",
        "plt.legend(loc='lower right')\n"
      ]
    },
    {
      "cell_type": "code",
      "execution_count": null,
      "metadata": {
        "colab": {
          "base_uri": "https://localhost:8080/",
          "height": 301
        },
        "id": "QwEEv83duUR6",
        "outputId": "ec61d027-8979-4dcb-b3a9-25cc718e7114"
      },
      "outputs": [
        {
          "data": {
            "text/plain": [
              "<matplotlib.legend.Legend at 0x7fd41e60f810>"
            ]
          },
          "execution_count": 13,
          "metadata": {},
          "output_type": "execute_result"
        },
        {
          "data": {
            "image/png": "[encoded data removed]",
            "text/plain": [
              "<Figure size 432x288 with 1 Axes>"
            ]
          },
          "metadata": {},
          "output_type": "display_data"
        }
      ],
      "source": [
        "import matplotlib.pyplot as plt1\n",
        "plt1.plot(history.history['loss'], label='loss')\n",
        "plt1.plot(history.history['val_loss'], label = 'val_loss')\n",
        "plt1.xlabel('Epoch')\n",
        "plt1.ylabel('Loss')\n",
        "plt1.ylim([0, 3])\n",
        "plt1.legend()"
      ]
    },
    {
      "cell_type": "code",
      "execution_count": null,
      "metadata": {
        "colab": {
          "base_uri": "https://localhost:8080/"
        },
        "id": "f9NAFDoOub2p",
        "outputId": "f53ac748-9e1b-42e2-bbec-28fba39809fe"
      },
      "outputs": [
        {
          "name": "stdout",
          "output_type": "stream",
          "text": [
            "{'loss': [2.231579303741455, 2.2138311862945557, 2.1889688968658447, 2.0994696617126465, 1.7320966720581055, 1.1808862686157227, 0.8653031587600708, 0.7120442986488342, 0.6203528046607971, 0.562843382358551], 'accuracy': [0.19491395354270935, 0.20044560730457306, 0.21650277078151703, 0.2668638527393341, 0.43219882249832153, 0.6452827453613281, 0.748885989189148, 0.7937538623809814, 0.8232944011688232, 0.8375461101531982], 'val_loss': [2.2341275215148926, 2.2269632816314697, 2.2181873321533203, 2.0704469680786133, 1.6271274089813232, 1.8062776327133179, 1.2885593175888062, 0.9065491557121277, 1.0695183277130127, 0.8237404227256775], 'val_accuracy': [0.18921059370040894, 0.1892651915550232, 0.20501795411109924, 0.31519171595573425, 0.4628909230232239, 0.41903162002563477, 0.601744532585144, 0.7194125056266785, 0.6755259037017822, 0.7522966861724854]}\n"
          ]
        }
      ],
      "source": [
        "print(history.history)"
      ]
    },
    {
      "cell_type": "markdown",
      "metadata": {
        "id": "jmLw3UVrU1m5"
      },
      "source": [
        "# New Section"
      ]
    }
  ],
  "metadata": {
    "colab": {
      "provenance": []
    },
    "kernelspec": {
      "display_name": "Python 3",
      "name": "python3"
    },
    "language_info": {
      "name": "python"
    }
  },
  "nbformat": 4,
  "nbformat_minor": 0
}